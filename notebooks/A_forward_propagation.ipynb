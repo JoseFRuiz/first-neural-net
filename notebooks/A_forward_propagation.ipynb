{
 "cells": [
  {
   "cell_type": "markdown",
   "metadata": {},
   "source": [
    "# Implementing forward propagation through a simple neural network"
   ]
  },
  {
   "cell_type": "markdown",
   "metadata": {},
   "source": [
    "## 1. Introduction\n"
   ]
  },
  {
   "cell_type": "markdown",
   "metadata": {},
   "source": [
    "In this notebook, we will implement forward propagation through a simple neural network. First let's recall some key concepts and descriptions listed below."
   ]
  },
  {
   "cell_type": "markdown",
   "metadata": {},
   "source": [
    "### 1.1 Key Concepts in Neural Networks\n",
    "\n",
    "| **Concept**                | **Description** |\n",
    "|---------------------------|-----------------|\n",
    "| **Neural Network (NN)**   | A computational model inspired by the human brain, composed of layers of interconnected nodes (neurons) that transform input data to learn patterns. |\n",
    "| **Fully Connected Network (FCN)** | A type of neural network in which every neuron in one layer is connected to every neuron in the next layer. It is the simplest architecture used for function approximation, classification, and regression tasks. |\n",
    "| **Layer**                 | A collection of neurons that processes input data. Layers can be input, hidden, or output layers. |\n",
    "| **Neuron (Unit)**         | A basic computation unit in a network. Each neuron performs a weighted sum of its inputs followed by an activation function. |\n",
    "| **Weight Matrix ($\\mathbf{W}$)** | A matrix that stores the trainable parameters between layers. Each element represents the strength of the connection between two neurons. |\n",
    "| **Bias Vector ($\\mathbf{b}$)**   | A vector added to the weighted sum to provide flexibility and improve learning. Each layer typically has its own bias vector. |\n",
    "| **Forward Propagation**   | The process of computing outputs from inputs by passing data through the network's layers using weights, biases, and activation functions. |\n",
    "| **Linear Transformation** | The operation $ \\mathbf{z} = \\mathbf{W}\\mathbf{x} + \\mathbf{b} $, used to combine inputs using learnable parameters. |\n",
    "| **Activation Function**   | A non-linear function applied to the linear output of a neuron, enabling the network to learn complex patterns. |\n",
    "| **ReLU (Rectified Linear Unit)** | An activation function defined as $$ \\text{ReLU}(z) = \\max(0, z) $$ introducing non-linearity while maintaining computational efficiency. |\n",
    "| **Softmax Function**      | Converts a vector of scores into a probability distribution:  $$ \\text{softmax}(z_i) = \\frac{e^{z_i}}{\\sum_j e^{z_j}} $$ Used in the output layer for classification. |\n",
    "| **Hidden Layer**          | An intermediate layer between the input and output. Hidden layers allow the network to learn internal representations. |\n",
    "| **Output Layer**          | The final layer that produces predictions. In classification tasks, this often applies softmax to yield class probabilities. |\n",
    "| **Predicted Class ($\\hat{y}$)** | The class with the highest predicted probability: $$ \\hat{y} = \\arg\\max_i \\mathbf{a}^{[2]}_i $$ |\n",
    "| **Dimensionality**        | Refers to the number of features or units in each layer. Shapes must match for matrix operations to be valid. |\n",
    "| **Matrix Multiplication** | The core operation in forward propagation, denoted $ \\mathbf{W}\\mathbf{x} $. Ensures linear combination of inputs. |\n",
    "| **Vectorization**         | Expressing computations using matrix and vector operations to improve efficiency and code readability. |\n",
    "| **Batch Processing**      | Feeding multiple inputs at once (as a matrix of inputs) to leverage parallelism during forward passes. |"
   ]
  },
  {
   "cell_type": "markdown",
   "metadata": {},
   "source": [
    "### 1.2 Fully connected network (FCN) architecture\n",
    "\n",
    "In this exercise, we will implement a **fully connected network (FCN)**, also known as a feedforward neural network. This type of network consists of layers where each neuron in one layer is connected to every neuron in the next layer.\n",
    "\n",
    "The architecture of an FCN is defined by the following components:\n",
    "\n",
    "- **Input dimension**: the number of features in the input vector.\n",
    "- **Number of hidden layers**: intermediate layers between input and output, responsible for learning internal representations.\n",
    "- **Neurons per hidden layer**: the number of units in each hidden layer.\n",
    "- **Activation functions**: non-linear transformations applied after each layer to allow the network to learn complex patterns.\n",
    "- **Output dimension**: the number of classes (for classification) or output values (for regression).\n",
    "\n",
    "The code below generates an FCN with an input dimension of 2, one hidden layer with three neurons, and an output dimension of 2."
   ]
  },
  {
   "cell_type": "code",
   "execution_count": 14,
   "metadata": {},
   "outputs": [
    {
     "data": {
      "image/png": "[encoded data removed]",
      "text/plain": [
       "<Figure size 600x600 with 1 Axes>"
      ]
     },
     "metadata": {},
     "output_type": "display_data"
    }
   ],
   "source": [
    "from utils import NeuralNetwork\n",
    "\n",
    "nn_dim = [2, 3, 2]\n",
    "nn = NeuralNetwork(nn_dim)\n",
    "nn.draw()"
   ]
  },
  {
   "cell_type": "markdown",
   "metadata": {},
   "source": [
    "Try changing the architecture by changing the nn_dim variable. Draw an input dimension of 3, 2 hidden layers, each with 5 neurons, and an output dimension of 2."
   ]
  },
  {
   "cell_type": "code",
   "execution_count": null,
   "metadata": {},
   "outputs": [],
   "source": [
    "# TODO: Change the architecture by changing the nn_dim variable.\n",
    "\n",
    "from exercise_validator import validate_nn_architecture\n",
    "\n",
    "nn_dim = None # You can change the architecture by changing the nn_dim variable\n",
    "nn = NeuralNetwork(nn_dim)\n",
    "nn.draw()\n",
    "\n",
    "# Validate the solution\n",
    "is_valid, message = validate_nn_architecture(nn_dim)\n",
    "print(message)"
   ]
  },
  {
   "cell_type": "code",
   "execution_count": null,
   "metadata": {},
   "outputs": [],
   "source": [
    "# EXERCISE SOLUTION — NOT VISIBLE TO LEARNERS\n",
    "# This cell contains the reference solution and validation.\n",
    "# It should be used for instructor/testing purposes only.\n",
    "\n",
    "from exercise_validator import validate_nn_architecture\n",
    "\n",
    "nn_dim = [3, 5, 5, 2] # You can change the architecture by changing the nn_dim variable\n",
    "nn = NeuralNetwork(nn_dim)\n",
    "nn.draw()\n",
    "\n",
    "# Validate the solution\n",
    "is_valid, message = validate_nn_architecture(nn_dim)\n",
    "print(message)"
   ]
  },
  {
   "cell_type": "markdown",
   "metadata": {},
   "source": [
    "### 1.2 Forward Propagation Through an FCN\n",
    "\n",
    "Forward propagation is the process of passing the input through the network, layer by layer, applying linear transformations followed by activation functions, until the final output is produced.\n",
    "\n",
    "Formally, for a fully connected network with one hidden layer, the computations proceed as follows:\n",
    "\n",
    "- Let the input vector be $\\mathbf{x} \\in \\mathbb{R}^{n_0}$\n",
    "- Let the weight matrix and bias vector for layer 1 be:\n",
    "  - $\\mathbf{W}^{[1]} \\in \\mathbb{R}^{n_1 \\times n_0}$\n",
    "  - $\\mathbf{b}^{[1]} \\in \\mathbb{R}^{n_1}$\n",
    "- Let the weight matrix and bias vector for the output layer be:\n",
    "  - $\\mathbf{W}^{[2]} \\in \\mathbb{R}^{n_2 \\times n_1}$\n",
    "  - $\\mathbf{b}^{[2]} \\in \\mathbb{R}^{n_2}$\n",
    "\n",
    "The forward propagation steps are:\n",
    "\n",
    "1. **First layer linear transformation**  \n",
    "   $$\n",
    "   \\mathbf{z}^{[1]} = \\mathbf{W}^{[1]} \\mathbf{x} + \\mathbf{b}^{[1]}, \\quad \\mathbf{z}^{[1]} \\in \\mathbb{R}^{n_1}\n",
    "   $$\n",
    "\n",
    "2. **First layer activation (e.g., ReLU)**  \n",
    "   $$\n",
    "   \\mathbf{a}^{[1]} = \\text{ReLU}(\\mathbf{z}^{[1]}), \\quad \\mathbf{a}^{[1]} \\in \\mathbb{R}^{n_1}\n",
    "   $$\n",
    "\n",
    "3. **Output layer linear transformation**  \n",
    "   $$\n",
    "   \\mathbf{z}^{[2]} = \\mathbf{W}^{[2]} \\mathbf{a}^{[1]} + \\mathbf{b}^{[2]}, \\quad \\mathbf{z}^{[2]} \\in \\mathbb{R}^{n_2}\n",
    "   $$\n",
    "\n",
    "4. **Output activation (e.g., softmax for classification)**  \n",
    "   $$\n",
    "   \\mathbf{a}^{[2]} = \\text{softmax}(\\mathbf{z}^{[2]}), \\quad \\mathbf{a}^{[2]} \\in \\mathbb{R}^{n_2}\n",
    "   $$\n",
    "\n",
    "---\n",
    "\n",
    "**Example:**  \n",
    "Consider an FCN with:\n",
    "\n",
    "- Input dimension: $n_0 = 3$  \n",
    "- Hidden layer size: $n_1 = 4$  \n",
    "- Output dimension: $n_2 = 2$  \n",
    "\n",
    "The corresponding dimensions of the parameters and intermediate computations will be:\n",
    "\n",
    "- $\\mathbf{x} \\in \\mathbb{R}^{3}$  \n",
    "- $\\mathbf{W}^{[1]} \\in \\mathbb{R}^{4 \\times 3}$, $\\mathbf{b}^{[1]} \\in \\mathbb{R}^{4}$  \n",
    "- $\\mathbf{z}^{[1]}, \\mathbf{a}^{[1]} \\in \\mathbb{R}^{4}$  \n",
    "- $\\mathbf{W}^{[2]} \\in \\mathbb{R}^{2 \\times 4}$, $\\mathbf{b}^{[2]} \\in \\mathbb{R}^{2}$  \n",
    "- $\\mathbf{z}^{[2]}, \\mathbf{a}^{[2]} \\in \\mathbb{R}^{2}$\n",
    "\n",
    "This setup results in a 2-dimensional output vector that can be interpreted as class probabilities in a binary classification task.\n",
    "\n",
    "Let's assign the following values:\n",
    "\n",
    "**Input vector:**\n",
    "$$\n",
    "\\mathbf{x} =\n",
    "\\begin{bmatrix}\n",
    "1.0 \\\\\n",
    "2.0 \\\\\n",
    "-1.0\n",
    "\\end{bmatrix}\n",
    "$$\n",
    "\n",
    "**Weights and biases for the hidden layer:**\n",
    "$$\n",
    "\\mathbf{W}^{[1]} =\n",
    "\\begin{bmatrix}\n",
    "0.2 & -0.4 & 0.1 \\\\\n",
    "0.7 & 0.3 & -0.2 \\\\\n",
    "-0.5 & 0.6 & 0.4 \\\\\n",
    "0.1 & -0.1 & 0.2\n",
    "\\end{bmatrix},\n",
    "\\quad\n",
    "\\mathbf{b}^{[1]} =\n",
    "\\begin{bmatrix}\n",
    "0.0 \\\\\n",
    "0.1 \\\\\n",
    "-0.2 \\\\\n",
    "0.05\n",
    "\\end{bmatrix}\n",
    "$$\n",
    "\n",
    "Let's compute the first linear transformation using **numpy**:"
   ]
  },
  {
   "cell_type": "code",
   "execution_count": 24,
   "metadata": {},
   "outputs": [
    {
     "name": "stdout",
     "output_type": "stream",
     "text": [
      "[-0.7   1.6   0.1  -0.25]\n"
     ]
    }
   ],
   "source": [
    "import numpy as np\n",
    "\n",
    "x = np.array([1.0, 2.0, -1.0])\n",
    "W1 = np.array([[0.2, -0.4, 0.1], [0.7, 0.3, -0.2], [-0.5, 0.6, 0.4], [0.1, -0.1, 0.2]])\n",
    "b1 = np.array([0.0, 0.1, -0.2, 0.05])\n",
    "z1 = np.dot(W1, x) + b1\n",
    "print(z1)\n"
   ]
  },
  {
   "cell_type": "markdown",
   "metadata": {},
   "source": [
    "In matricial notation we have\n",
    "\n",
    "$$\n",
    "\\mathbf{z}^{[1]} = \\mathbf{W}^{[1]} \\mathbf{x} + \\mathbf{b}^{[1]} =\n",
    "\\begin{bmatrix}\n",
    "(0.2)(1.0) + (-0.4)(2.0) + (0.1)(-1.0) \\\\\n",
    "(0.7)(1.0) + (0.3)(2.0) + (-0.2)(-1.0) \\\\\n",
    "(-0.5)(1.0) + (0.6)(2.0) + (0.4)(-1.0) \\\\\n",
    "(0.1)(1.0) + (-0.1)(2.0) + (0.2)(-1.0)\n",
    "\\end{bmatrix}\n",
    "+\n",
    "\\begin{bmatrix}\n",
    "0.0 \\\\\n",
    "0.1 \\\\\n",
    "-0.2 \\\\\n",
    "0.05\n",
    "\\end{bmatrix}\n",
    "=\n",
    "\\begin{bmatrix}\n",
    "-0.7 \\\\\n",
    "1.6 \\\\\n",
    "0.1 \\\\\n",
    "-0.25\n",
    "\\end{bmatrix}\n",
    "$$\n",
    "\n",
    "Apply the ReLU activation:"
   ]
  },
  {
   "cell_type": "code",
   "execution_count": 26,
   "metadata": {},
   "outputs": [
    {
     "name": "stdout",
     "output_type": "stream",
     "text": [
      "[0.  1.6 0.1 0. ]\n"
     ]
    }
   ],
   "source": [
    "a1 = np.maximum(0, z1)\n",
    "print(a1)"
   ]
  },
  {
   "cell_type": "markdown",
   "metadata": {},
   "source": [
    "$$\n",
    "\\mathbf{a}^{[1]} = \\text{ReLU}(\\mathbf{z}^{[1]}) =\n",
    "\\begin{bmatrix}\n",
    "0.0 \\\\\n",
    "1.6 \\\\\n",
    "0.1 \\\\\n",
    "0.0\n",
    "\\end{bmatrix}\n",
    "$$\n",
    "\n",
    "**Weights and biases for the output layer:**\n",
    "$$\n",
    "\\mathbf{W}^{[2]} =\n",
    "\\begin{bmatrix}\n",
    "0.5 & -0.3 & 0.8 & -0.1 \\\\\n",
    "-0.4 & 0.6 & 0.1 & 0.2\n",
    "\\end{bmatrix},\n",
    "\\quad\n",
    "\\mathbf{b}^{[2]} =\n",
    "\\begin{bmatrix}\n",
    "0.0 \\\\\n",
    "0.05\n",
    "\\end{bmatrix}\n",
    "$$\n",
    "\n",
    "Let's compute the output layer transformation using **numpy**:"
   ]
  },
  {
   "cell_type": "code",
   "execution_count": 28,
   "metadata": {},
   "outputs": [
    {
     "name": "stdout",
     "output_type": "stream",
     "text": [
      "[-0.4   1.02]\n"
     ]
    }
   ],
   "source": [
    "W2 = np.array([[0.5, -0.3, 0.8, -0.1], [-0.4, 0.6, 0.1, 0.2]])\n",
    "b2 = np.array([0.0, 0.05])\n",
    "z2 = np.dot(W2, a1) + b2\n",
    "print(z2)"
   ]
  },
  {
   "cell_type": "markdown",
   "metadata": {},
   "source": [
    "In matricial notation we have\n",
    "\n",
    "$$\n",
    "\\mathbf{z}^{[2]} = \\mathbf{W}^{[2]} \\mathbf{a}^{[1]} + \\mathbf{b}^{[2]} =\n",
    "\\begin{bmatrix}\n",
    "(0.5)(0.0) + (-0.3)(1.6) + (0.8)(0.1) + (-0.1)(0.0) \\\\\n",
    "(-0.4)(0.0) + (0.6)(1.6) + (0.1)(0.1) + (0.2)(0.0)\n",
    "\\end{bmatrix}\n",
    "+\n",
    "\\begin{bmatrix}\n",
    "0.0 \\\\\n",
    "0.05\n",
    "\\end{bmatrix}\n",
    "=\n",
    "\\begin{bmatrix}\n",
    "-0.4 \\\\\n",
    "1.02\n",
    "\\end{bmatrix}\n",
    "$$\n",
    "\n",
    "Apply the softmax function:"
   ]
  },
  {
   "cell_type": "code",
   "execution_count": 29,
   "metadata": {},
   "outputs": [
    {
     "name": "stdout",
     "output_type": "stream",
     "text": [
      "[0.19466158 0.80533842]\n"
     ]
    }
   ],
   "source": [
    "a2 = np.exp(z2) / np.sum(np.exp(z2))\n",
    "print(a2)\n"
   ]
  },
  {
   "cell_type": "markdown",
   "metadata": {},
   "source": [
    "$$\n",
    "\\mathbf{a}^{[2]} = \\text{softmax}(\\mathbf{z}^{[2]}) =\n",
    "\\frac{1}{e^{-0.4} + e^{1.02}} \\cdot\n",
    "\\begin{bmatrix}\n",
    "e^{-0.4} \\\\\n",
    "e^{1.02}\n",
    "\\end{bmatrix}\n",
    "\\approx\n",
    "\\begin{bmatrix}\n",
    "0.195 \\\\\n",
    "0.805\n",
    "\\end{bmatrix}\n",
    "$$"
   ]
  },
  {
   "cell_type": "markdown",
   "metadata": {},
   "source": [
    "## 2. Implement Your Own Fully Connected Network (FCN)\n",
    "\n",
    "In this section, you will implement a simple **fully connected network (FCN)** using a class-based structure in Python. The architecture of the network is as follows:\n",
    "\n",
    "1. **Input Layer**: 2 units, accepting a feature vector $\\mathbf{x} \\in \\mathbb{R}^2$\n",
    "2. **Hidden Layer**: 2 units with ReLU activation  \n",
    "   - Linear transformation: $\\mathbf{z}^{[1]} = \\mathbf{W}^{[1]} \\mathbf{x} + \\mathbf{b}^{[1]}$  \n",
    "   - Activation: $\\mathbf{a}^{[1]} = \\text{ReLU}(\\mathbf{z}^{[1]})$\n",
    "3. **Output Layer**: 2 units with softmax activation  \n",
    "   - Linear transformation: $\\mathbf{z}^{[2]} = \\mathbf{W}^{[2]} \\mathbf{a}^{[1]} + \\mathbf{b}^{[2]}$  \n",
    "   - Activation: $\\mathbf{y} = \\text{softmax}(\\mathbf{z}^{[2]})$\n",
    "\n",
    "---\n",
    "\n",
    "### ✍️ Task\n",
    "\n",
    "Your task is to complete the class `SimpleFCN` by filling in the missing components. The class will have two main responsibilities:\n",
    "\n",
    "---\n",
    "\n",
    "#### 1. **Assigning Network Parameters**\n",
    "\n",
    "Manually assign values to the weights and biases of the network using the following:\n",
    "\n",
    "- $\\mathbf{W}^{[1]} \\in \\mathbb{R}^{2 \\times 2}, \\quad \\mathbf{b}^{[1]} \\in \\mathbb{R}^{2}$\n",
    "- $\\mathbf{W}^{[2]} \\in \\mathbb{R}^{2 \\times 2}, \\quad \\mathbf{b}^{[2]} \\in \\mathbb{R}^{2}$\n",
    "\n",
    "**Use these fixed values:**\n",
    "\n",
    "$$\n",
    "\\mathbf{W}^{[1]} =\n",
    "\\begin{bmatrix}\n",
    "0.2 & -0.4 \\\\\n",
    "0.7 & 0.3\n",
    "\\end{bmatrix}, \\quad\n",
    "\\mathbf{b}^{[1]} =\n",
    "\\begin{bmatrix}\n",
    "0.1 \\\\\n",
    "0.0\n",
    "\\end{bmatrix}\n",
    "$$\n",
    "\n",
    "$$\n",
    "\\mathbf{W}^{[2]} =\n",
    "\\begin{bmatrix}\n",
    "0.5 & -0.3 \\\\\n",
    "-0.4 & 0.6\n",
    "\\end{bmatrix}, \\quad\n",
    "\\mathbf{b}^{[2]} =\n",
    "\\begin{bmatrix}\n",
    "0.0 \\\\\n",
    "0.05\n",
    "\\end{bmatrix}\n",
    "$$\n",
    "\n",
    "---\n",
    "\n",
    "#### 2. **Performing Forward Propagation**\n",
    "\n",
    "You will implement the full forward pass from input $\\mathbf{x}$ to output $\\mathbf{y}$ by combining the following components:\n",
    "\n",
    "- A **linear transformation function**\n",
    "- A **ReLU activation function**\n",
    "- A **softmax function**\n",
    "- A `forward()` method that chains all steps together\n",
    "\n",
    "---\n",
    "\n",
    "### 🧩 Components to Implement\n",
    "\n",
    "1. **Parameter Initialization**  \n",
    "   Use the provided values for the weights and biases of both layers.\n",
    "\n",
    "2. **Linear Forward**  \n",
    "   Implements the affine transformation:\n",
    "   $$\n",
    "   \\mathbf{z} = \\mathbf{W} \\mathbf{x} + \\mathbf{b}\n",
    "   $$\n",
    "\n",
    "3. **ReLU Activation**  \n",
    "   Applies the ReLU function element-wise:\n",
    "   $$\n",
    "   \\text{ReLU}(z_i) = \\max(0, z_i)\n",
    "   $$\n",
    "\n",
    "4. **Softmax Activation**  \n",
    "   Converts raw scores into probabilities:\n",
    "   $$\n",
    "   \\text{softmax}(z_i) = \\frac{e^{z_i}}{\\sum_j e^{z_j}}\n",
    "   $$\n",
    "\n",
    "5. **Forward Pass**  \n",
    "   Combine all components to compute the network output:\n",
    "   $$\n",
    "   \\mathbf{y} = \\text{softmax} \\left( \\mathbf{W}^{[2]} \\cdot \\text{ReLU}\\left( \\mathbf{W}^{[1]} \\mathbf{x} + \\mathbf{b}^{[1]} \\right) + \\mathbf{b}^{[2]} \\right)\n",
    "   $$"
   ]
  },
  {
   "cell_type": "code",
   "execution_count": 30,
   "metadata": {},
   "outputs": [],
   "source": [
    "import numpy as np\n",
    "\n",
    "def relu(z):\n",
    "    return np.maximum(0, z)\n",
    "\n",
    "def softmax(z):\n",
    "    exp_z = np.exp(z - np.max(z))  # stability trick\n",
    "    return exp_z / np.sum(exp_z)\n",
    "\n",
    "def linear_forward(W, x, b):\n",
    "    return np.dot(W, x) + b\n",
    "\n",
    "class SimpleFCN:\n",
    "    def __init__(self):\n",
    "        # Assign fixed weights and biases for layer 1\n",
    "        self.W1 = np.array([[0.2, -0.4],\n",
    "                            [0.7,  0.3]])\n",
    "        self.b1 = np.array([0.1, 0.0])\n",
    "\n",
    "        # Assign fixed weights and biases for layer 2\n",
    "        self.W2 = np.array([[ 0.5, -0.3],\n",
    "                            [-0.4,  0.6]])\n",
    "        self.b2 = np.array([0.0, 0.05])\n",
    "\n",
    "    def forward(self, x):\n",
    "        # First layer\n",
    "        z1 = self.linear_forward(self.W1, x, self.b1)\n",
    "        a1 = self.relu(z1)\n",
    "\n",
    "        # Output layer\n",
    "        z2 = self.linear_forward(self.W2, a1, self.b2)\n",
    "        y = self.softmax(z2)\n",
    "        return y"
   ]
  },
  {
   "cell_type": "code",
   "execution_count": 31,
   "metadata": {},
   "outputs": [
    {
     "name": "stdout",
     "output_type": "stream",
     "text": [
      "Output probabilities: [0.22793645 0.77206355]\n"
     ]
    }
   ],
   "source": [
    "# Create the network\n",
    "model = SimpleFCN()\n",
    "\n",
    "# Define input vector\n",
    "x = np.array([1.0, 2.0])\n",
    "\n",
    "# Run forward pass\n",
    "output = model.forward(x)\n",
    "print(\"Output probabilities:\", output)\n"
   ]
  },
  {
   "cell_type": "code",
   "execution_count": 7,
   "metadata": {},
   "outputs": [],
   "source": [
    "def linear_forward(x, W, b):\n",
    "    \"\"\"\n",
    "    Implements linear forward propagation: z = Wx + b\n",
    "    Args:\n",
    "        x: input vector (n,)\n",
    "        W: weight matrix (m,n)\n",
    "        b: bias vector (m,)\n",
    "    Returns:\n",
    "        z: output vector (m,)\n",
    "    \"\"\"\n",
    "    return np.dot(W, x) + b"
   ]
  },
  {
   "cell_type": "code",
   "execution_count": 8,
   "metadata": {},
   "outputs": [],
   "source": [
    "def relu(z):\n",
    "    return np.maximum(0, z)"
   ]
  },
  {
   "cell_type": "code",
   "execution_count": 9,
   "metadata": {},
   "outputs": [],
   "source": [
    "def softmax(z):\n",
    "    exp_z = np.exp(z - np.max(z))  # Subtract max for numerical stability\n",
    "    return exp_z / np.sum(exp_z)"
   ]
  },
  {
   "cell_type": "code",
   "execution_count": 10,
   "metadata": {},
   "outputs": [],
   "source": [
    "def forward_pass(x, W1, b1, W2, b2):\n",
    "    # First layer\n",
    "    z1 = linear_forward(x, W1, b1)\n",
    "    a1 = relu(z1)\n",
    "    \n",
    "    # Second layer\n",
    "    z2 = linear_forward(a1, W2, b2)\n",
    "    output = softmax(z2)\n",
    "    \n",
    "    return output"
   ]
  },
  {
   "cell_type": "markdown",
   "metadata": {},
   "source": [
    "### 2.1 Testing Your Implementation"
   ]
  },
  {
   "cell_type": "code",
   "execution_count": 11,
   "metadata": {},
   "outputs": [
    {
     "name": "stdout",
     "output_type": "stream",
     "text": [
      "🏁 Running all unit tests...\n",
      "\n",
      "🔍 Testing: linear_forward...\n",
      "✅ linear_forward passed!\n",
      "🔍 Testing: relu...\n",
      "✅ relu passed!\n",
      "🔍 Testing: softmax...\n",
      "✅ softmax passed!\n",
      "🔍 Testing: forward_pass...\n",
      "✅ forward_pass passed!\n",
      "\n",
      "🎉 All tests completed!\n"
     ]
    }
   ],
   "source": [
    "def test_linear_forward():\n",
    "    print(\"🔍 Testing: linear_forward...\")\n",
    "    x = np.array([1.0, 2.0])\n",
    "    W = np.array([[1.0, -1.0], [0.5, 2.0]])\n",
    "    b = np.array([0.0, 1.0])\n",
    "    result = linear_forward(x, W, b)\n",
    "    \n",
    "    expected = np.array([-1.0, 5.5])\n",
    "    \n",
    "    assert isinstance(result, np.ndarray), \"❌ Output is not a NumPy array.\"\n",
    "    assert result.shape == expected.shape, f\"❌ Expected shape {expected.shape}, got {result.shape}\"\n",
    "    assert np.allclose(result, expected), f\"❌ Incorrect values: expected {expected}, got {result}\"\n",
    "    print(\"✅ linear_forward passed!\")\n",
    "\n",
    "\n",
    "def test_relu():\n",
    "    print(\"🔍 Testing: relu...\")\n",
    "    z = np.array([-1.0, 0.0, 2.5])\n",
    "    result = relu(z)\n",
    "    expected = np.array([0.0, 0.0, 2.5])\n",
    "    \n",
    "    assert np.allclose(result, expected), f\"❌ ReLU failed: expected {expected}, got {result}\"\n",
    "    print(\"✅ relu passed!\")\n",
    "\n",
    "\n",
    "def test_softmax():\n",
    "    print(\"🔍 Testing: softmax...\")\n",
    "    z = np.array([1.0, 2.0, 3.0])\n",
    "    result = softmax(z)\n",
    "    expected = np.exp(z) / np.sum(np.exp(z))\n",
    "    \n",
    "    assert np.allclose(result, expected, atol=1e-6), \"❌ Softmax values are incorrect.\"\n",
    "    assert np.isclose(np.sum(result), 1.0), \"❌ Softmax output does not sum to 1.\"\n",
    "    print(\"✅ softmax passed!\")\n",
    "\n",
    "\n",
    "def test_forward_pass():\n",
    "    print(\"🔍 Testing: forward_pass...\")\n",
    "    x = np.array([1.0, 2.0])\n",
    "    W1 = np.array([[1.0, -1.0], [0.5, 2.0]])\n",
    "    b1 = np.array([0.0, 1.0])\n",
    "    W2 = np.array([[1.0, 2.0], [-1.0, 1.0]])\n",
    "    b2 = np.array([0.0, 0.0])\n",
    "    \n",
    "    output = forward_pass(x, W1, b1, W2, b2)\n",
    "\n",
    "    assert isinstance(output, np.ndarray), \"❌ Output must be a NumPy array.\"\n",
    "    assert output.shape == (2,), f\"❌ Expected output shape (2,), got {output.shape}\"\n",
    "    assert np.isclose(np.sum(output), 1.0, atol=1e-6), \"❌ Output probabilities must sum to 1.\"\n",
    "    assert np.all(output >= 0), \"❌ Output contains negative probabilities.\"\n",
    "    print(\"✅ forward_pass passed!\")\n",
    "\n",
    "\n",
    "# Run all tests\n",
    "def run_all_tests():\n",
    "    print(\"🏁 Running all unit tests...\\n\")\n",
    "    test_linear_forward()\n",
    "    test_relu()\n",
    "    test_softmax()\n",
    "    test_forward_pass()\n",
    "    print(\"\\n🎉 All tests completed!\")\n",
    "\n",
    "# Call this to test all at once:\n",
    "run_all_tests()\n"
   ]
  }
 ],
 "metadata": {
  "kernelspec": {
   "display_name": "torchenv",
   "language": "python",
   "name": "python3"
  },
  "language_info": {
   "codemirror_mode": {
    "name": "ipython",
    "version": 3
   },
   "file_extension": ".py",
   "mimetype": "text/x-python",
   "name": "python",
   "nbconvert_exporter": "python",
   "pygments_lexer": "ipython3",
   "version": "3.13.2"
  }
 },
 "nbformat": 4,
 "nbformat_minor": 4
}
